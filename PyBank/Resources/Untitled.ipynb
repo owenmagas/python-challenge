{
 "cells": [
  {
   "cell_type": "code",
   "execution_count": 3,
   "id": "3af3e466",
   "metadata": {},
   "outputs": [],
   "source": [
    "import pandas as pd\n",
    "\n",
    "df = pd.read_csv('election_data.csv')"
   ]
  },
  {
   "cell_type": "code",
   "execution_count": 4,
   "id": "c353307a",
   "metadata": {},
   "outputs": [
    {
     "data": {
      "text/html": [
       "<div>\n",
       "<style scoped>\n",
       "    .dataframe tbody tr th:only-of-type {\n",
       "        vertical-align: middle;\n",
       "    }\n",
       "\n",
       "    .dataframe tbody tr th {\n",
       "        vertical-align: top;\n",
       "    }\n",
       "\n",
       "    .dataframe thead th {\n",
       "        text-align: right;\n",
       "    }\n",
       "</style>\n",
       "<table border=\"1\" class=\"dataframe\">\n",
       "  <thead>\n",
       "    <tr style=\"text-align: right;\">\n",
       "      <th></th>\n",
       "      <th>Voter ID</th>\n",
       "      <th>County</th>\n",
       "      <th>Candidate</th>\n",
       "    </tr>\n",
       "  </thead>\n",
       "  <tbody>\n",
       "    <tr>\n",
       "      <th>0</th>\n",
       "      <td>12864552</td>\n",
       "      <td>Marsh</td>\n",
       "      <td>Khan</td>\n",
       "    </tr>\n",
       "    <tr>\n",
       "      <th>1</th>\n",
       "      <td>17444633</td>\n",
       "      <td>Marsh</td>\n",
       "      <td>Correy</td>\n",
       "    </tr>\n",
       "    <tr>\n",
       "      <th>2</th>\n",
       "      <td>19330107</td>\n",
       "      <td>Marsh</td>\n",
       "      <td>Khan</td>\n",
       "    </tr>\n",
       "    <tr>\n",
       "      <th>3</th>\n",
       "      <td>19865775</td>\n",
       "      <td>Queen</td>\n",
       "      <td>Khan</td>\n",
       "    </tr>\n",
       "    <tr>\n",
       "      <th>4</th>\n",
       "      <td>11927875</td>\n",
       "      <td>Marsh</td>\n",
       "      <td>Khan</td>\n",
       "    </tr>\n",
       "  </tbody>\n",
       "</table>\n",
       "</div>"
      ],
      "text/plain": [
       "   Voter ID County Candidate\n",
       "0  12864552  Marsh      Khan\n",
       "1  17444633  Marsh    Correy\n",
       "2  19330107  Marsh      Khan\n",
       "3  19865775  Queen      Khan\n",
       "4  11927875  Marsh      Khan"
      ]
     },
     "execution_count": 4,
     "metadata": {},
     "output_type": "execute_result"
    }
   ],
   "source": [
    "df.head()"
   ]
  },
  {
   "cell_type": "code",
   "execution_count": 5,
   "id": "1a0f771d",
   "metadata": {},
   "outputs": [
    {
     "data": {
      "text/plain": [
       "3521001"
      ]
     },
     "execution_count": 5,
     "metadata": {},
     "output_type": "execute_result"
    }
   ],
   "source": [
    "df['Voter ID'].count()"
   ]
  },
  {
   "cell_type": "code",
   "execution_count": 6,
   "id": "50ac65d6",
   "metadata": {},
   "outputs": [
    {
     "data": {
      "text/plain": [
       "Candidate\n",
       "Correy       704200\n",
       "Khan        2218231\n",
       "Li           492940\n",
       "O'Tooley     105630\n",
       "Name: Voter ID, dtype: int64"
      ]
     },
     "execution_count": 6,
     "metadata": {},
     "output_type": "execute_result"
    }
   ],
   "source": [
    "df.groupby(['Candidate'])['Voter ID'].count()"
   ]
  },
  {
   "cell_type": "code",
   "execution_count": 7,
   "id": "0f46e85e",
   "metadata": {},
   "outputs": [],
   "source": [
    "filt = df.groupby(['Candidate'])['Voter ID'].count()"
   ]
  },
  {
   "cell_type": "code",
   "execution_count": 8,
   "id": "49347e47",
   "metadata": {},
   "outputs": [
    {
     "data": {
      "text/plain": [
       "Candidate\n",
       "Correy       704200\n",
       "Khan        2218231\n",
       "Li           492940\n",
       "O'Tooley     105630\n",
       "Name: Voter ID, dtype: int64"
      ]
     },
     "execution_count": 8,
     "metadata": {},
     "output_type": "execute_result"
    }
   ],
   "source": [
    "filt"
   ]
  },
  {
   "cell_type": "code",
   "execution_count": 9,
   "id": "90de7024",
   "metadata": {},
   "outputs": [
    {
     "data": {
      "text/plain": [
       "2218231"
      ]
     },
     "execution_count": 9,
     "metadata": {},
     "output_type": "execute_result"
    }
   ],
   "source": [
    "filt['Khan']"
   ]
  },
  {
   "cell_type": "code",
   "execution_count": 10,
   "id": "d0b6f6df",
   "metadata": {},
   "outputs": [
    {
     "data": {
      "text/plain": [
       "63.00001050837531"
      ]
     },
     "execution_count": 10,
     "metadata": {},
     "output_type": "execute_result"
    }
   ],
   "source": [
    "filt['Khan']/3521001*100"
   ]
  },
  {
   "cell_type": "code",
   "execution_count": 11,
   "id": "dc89c602",
   "metadata": {},
   "outputs": [
    {
     "name": "stdout",
     "output_type": "stream",
     "text": [
      "---------------\n"
     ]
    }
   ],
   "source": [
    "print('---------------')"
   ]
  },
  {
   "cell_type": "code",
   "execution_count": 12,
   "id": "2da1ced9",
   "metadata": {},
   "outputs": [],
   "source": [
    "filt1=pd.DataFrame(filt)"
   ]
  },
  {
   "cell_type": "code",
   "execution_count": 13,
   "id": "9f94f044",
   "metadata": {},
   "outputs": [
    {
     "name": "stdout",
     "output_type": "stream",
     "text": [
      "Election Results\n",
      "---------------------------\n",
      "Total Votes:  3521001\n",
      "---------------------------\n",
      "Khan: 63.0000% (2218231)\n",
      "Correy: 20.0000% (704200)\n",
      "Li: 14.0000% (492940)\n",
      "O'Tooley: 3.0000% (105630)\n",
      "---------------------------\n",
      "Winner: Khan\n",
      "---------------------------\n"
     ]
    }
   ],
   "source": [
    "print('Election Results')\n",
    "print('---------------------------')\n",
    "print('Total Votes: ', df['Voter ID'].count())\n",
    "print('---------------------------')\n",
    "print('Khan: {:.4f}% ({})'.format((filt['Khan']/3521001*100),filt['Khan']))\n",
    "print('Correy: {:.4f}% ({})'.format((filt['Correy']/3521001*100),filt['Correy']))\n",
    "print('Li: {:.4f}% ({})'.format((filt['Li']/3521001*100),filt['Li']))\n",
    "print('O\\'Tooley: {:.4f}% ({})'.format((filt['O\\'Tooley']/3521001*100),filt['O\\'Tooley']))\n",
    "print('---------------------------')\n",
    "print('Winner:',filt1[filt1['Voter ID']==filt.max()].index.values[0])    \n",
    "print('---------------------------')"
   ]
  },
  {
   "cell_type": "code",
   "execution_count": 14,
   "id": "0625ed89",
   "metadata": {},
   "outputs": [],
   "source": [
    "filt1=pd.DataFrame(filt)"
   ]
  },
  {
   "cell_type": "code",
   "execution_count": 15,
   "id": "d3657b4b",
   "metadata": {},
   "outputs": [
    {
     "data": {
      "text/html": [
       "<div>\n",
       "<style scoped>\n",
       "    .dataframe tbody tr th:only-of-type {\n",
       "        vertical-align: middle;\n",
       "    }\n",
       "\n",
       "    .dataframe tbody tr th {\n",
       "        vertical-align: top;\n",
       "    }\n",
       "\n",
       "    .dataframe thead th {\n",
       "        text-align: right;\n",
       "    }\n",
       "</style>\n",
       "<table border=\"1\" class=\"dataframe\">\n",
       "  <thead>\n",
       "    <tr style=\"text-align: right;\">\n",
       "      <th></th>\n",
       "      <th>Voter ID</th>\n",
       "    </tr>\n",
       "    <tr>\n",
       "      <th>Candidate</th>\n",
       "      <th></th>\n",
       "    </tr>\n",
       "  </thead>\n",
       "  <tbody>\n",
       "    <tr>\n",
       "      <th>Correy</th>\n",
       "      <td>704200</td>\n",
       "    </tr>\n",
       "    <tr>\n",
       "      <th>Khan</th>\n",
       "      <td>2218231</td>\n",
       "    </tr>\n",
       "    <tr>\n",
       "      <th>Li</th>\n",
       "      <td>492940</td>\n",
       "    </tr>\n",
       "    <tr>\n",
       "      <th>O'Tooley</th>\n",
       "      <td>105630</td>\n",
       "    </tr>\n",
       "  </tbody>\n",
       "</table>\n",
       "</div>"
      ],
      "text/plain": [
       "           Voter ID\n",
       "Candidate          \n",
       "Correy       704200\n",
       "Khan        2218231\n",
       "Li           492940\n",
       "O'Tooley     105630"
      ]
     },
     "execution_count": 15,
     "metadata": {},
     "output_type": "execute_result"
    }
   ],
   "source": [
    "filt1"
   ]
  },
  {
   "cell_type": "code",
   "execution_count": 16,
   "id": "e2abbc6a",
   "metadata": {},
   "outputs": [
    {
     "name": "stdout",
     "output_type": "stream",
     "text": [
      "['Khan']\n"
     ]
    }
   ],
   "source": [
    "# filt1.index[filt.max()]\n",
    "print(filt1[filt1['Voter ID']==filt.max()].index.values)\n"
   ]
  },
  {
   "cell_type": "code",
   "execution_count": 17,
   "id": "b8f8c2d7",
   "metadata": {},
   "outputs": [],
   "source": [
    "# import csv\n",
    "\n",
    "# with open('election_data.csv', 'r') as csv_file:\n",
    "#     csv_reader = csv.reader(csv_file)\n",
    "#     next(csv_reader)# to skip the first line\n",
    "#     profit = []\n",
    "#     for line in csv_reader:\n",
    "#         print(line[0])"
   ]
  },
  {
   "cell_type": "code",
   "execution_count": 22,
   "id": "fb970519",
   "metadata": {},
   "outputs": [],
   "source": [
    "import csv\n",
    "\n",
    "# with open('election_data.csv', 'r') as csv_file:\n",
    "#     csv_reader = csv.reader(csv_file)\n",
    "#     with open('election_data1.csv', 'w') as new_file:\n",
    "# #     csv_writer = csv.writer(new_file) # to write the same file\n",
    "#         csv_write = csv.writer(new_file, delimiter='-')\n",
    "#         profit = []\n",
    "#         for line in csv_reader:\n",
    "#             csv_write.writerow(line)\n",
    "\n",
    "# with open('election_data.csv', 'r') as csv_file:\n",
    "#     csv_reader = csv.reader(csv_file)\n",
    "#     with open('election_data1.csv', 'w') as new_file:\n",
    "# #     csv_writer = csv.writer(new_file) # to write the same file\n",
    "#         csv_write = csv.writer(new_file, delimiter='\\t')\n",
    "#         profit = []\n",
    "#         for line in csv_reader:\n",
    "#             csv_write.writerow(line)"
   ]
  },
  {
   "cell_type": "code",
   "execution_count": 23,
   "id": "bbba8112",
   "metadata": {},
   "outputs": [],
   "source": [
    "# readin g the file\n",
    "# with open('election_data1.csv', 'r') as csv_file:\n",
    "#     csv_reader = csv.reader(csv_file, delimiter='\\t')\n",
    "#     for line in csv_reader:\n",
    "#         print(line)"
   ]
  },
  {
   "cell_type": "code",
   "execution_count": 31,
   "id": "1041e06a",
   "metadata": {},
   "outputs": [],
   "source": [
    "import csv\n",
    "# opening file and reading as dictionary\n",
    "with open('election_data.csv', 'r') as csv_file:\n",
    "    csv_reader = csv.DictReader(csv_file)\n",
    "\n",
    "    with open('election_data1.csv', 'w') as new_file:\n",
    "        fieldnames = ['Voter ID', 'County', 'Candidate']\n",
    "\n",
    "        csv_writer = csv.DictWriter(new_file, fieldnames=fieldnames, delimiter='\\t')\n",
    "    \n",
    "        csv_writer.writeheader()# to write headings\n",
    "\n",
    "        for line in csv_reader:\n",
    "            csv_writer.writerow(line)"
   ]
  },
  {
   "cell_type": "code",
   "execution_count": 20,
   "metadata": {
    "collapsed": false,
    "pycharm": {
     "name": "#%%\n"
    }
   },
   "outputs": [
    {
     "name": "stdout",
     "output_type": "stream",
     "text": [
      "3521001\n",
      "O'Tooley: 105630\n",
      "Li: 492940\n",
      "Correy: 704200\n",
      "Khan: 2218231\n",
      "2218231\n",
      "Winner: Khan\n"
     ]
    }
   ],
   "source": [
    "import csv\n",
    "\n",
    "with open('election_data.csv', 'r') as ed:\n",
    "    csv_reader = csv.reader(ed)\n",
    "    next(csv_reader)\n",
    "    voter_id=set()\n",
    "    county=[]\n",
    "    candidate=[]\n",
    "    for line in csv_reader:\n",
    "        voter_id.add(line[0])\n",
    "        county.append(line[1])\n",
    "        candidate.append(line[2])\n",
    "    \n",
    "    print(len(voter_id))\n",
    "    cand = set(candidate)\n",
    "    dict={}\n",
    "    for i in cand:\n",
    "        dict[i] = candidate.count(i) \n",
    "        print('{}: {}'. format(i, candidate.count(i)))\n",
    "        # print(dict)\n",
    "    \n",
    "    def get_key(val):\n",
    "        for key, value in dict.items():\n",
    "            if val== value:\n",
    "                return key\n",
    "        return 'key does not exist'\n",
    "\n",
    "    print(max(dict.values()))\n",
    "    print('Winner: {}'.format(get_key(max(dict.values()))))\n",
    "    "
   ]
  },
  {
   "cell_type": "code",
   "execution_count": 36,
   "metadata": {
    "collapsed": false,
    "pycharm": {
     "name": "#%%\n"
    }
   },
   "outputs": [
    {
     "name": "stdout",
     "output_type": "stream",
     "text": [
      "Financial Analysis\n",
      " -------------------------\n",
      " Total Months:86 \n",
      " Total: $38382578\n",
      " Average Change: $-2315.12\n",
      " Greatest Increase in Profits: Feb-2012 ($1926159) \n",
      " Greatest Decrease in Profits: Sep-2013 ($-2196167)\n"
     ]
    }
   ],
   "source": [
    "import csv\n",
    "\n",
    "with open('budget_data.csv', 'r') as ed:\n",
    "    csv_reader = csv.reader(ed)\n",
    "    next(csv_reader)\n",
    "    date=[]\n",
    "    P_L=[]\n",
    "    # candidate=[]\n",
    "    for line in csv_reader:\n",
    "        date.append(line[0])\n",
    "        P_L.append(int(line[1]))\n",
    "        # candidate.append(line[2])\n",
    "    \n",
    "    # print(P_L)\n",
    "    \n",
    "    total = 0\n",
    "    for i in P_L:\n",
    "        total+=(i)\n",
    "\n",
    "    \n",
    "    change  = []\n",
    "    for i in range(len(P_L)):\n",
    "        if i == (len(P_L)-1):\n",
    "            break\n",
    "        change.append(P_L[i+1]-P_L[i])\n",
    "    change.insert(0,0)\n",
    "\n",
    "\n",
    "\n",
    "    average_change = sum(change)/85\n",
    "\n",
    "    high = max(change)\n",
    "    low = min(change)\n",
    "    high_index = change.index(high)\n",
    "    low_index  = change.index(low)\n",
    "    # print(len(date))\n",
    "    # print(total)\n",
    "    # print(average_change)\n",
    "    # print(date[high_index])\n",
    "    # print(date[low_index])\n",
    "    print(\"Financial Analysis\\n -------------------------\\n \"\n",
    "        \"Total Months:{} \\n Total: ${}\\n Average Change: ${:.2f}\\n\"\n",
    "         \" Greatest Increase in Profits: {} (${}) \\n \"\n",
    "        \"Greatest Decrease in Profits: {} (${})\".format(len(date),total,\n",
    "        average_change, date[high_index],high, date[low_index], low))\n",
    "    \n",
    "    \n",
    "    with open('../analysis/text_file.txt', 'w') as o:\n",
    "        o.write(\"Financial Analysis\\n -------------------------\\n \"\n",
    "        \"Total Months:{} \\n Total: ${}\\n Average Change: ${:.2f}\\n\"\n",
    "         \" Greatest Increase in Profits: {} (${}) \\n \"\n",
    "        \"Greatest Decrease in Profits: {} (${})\".format(len(date),total,\n",
    "        average_change, date[high_index],high, date[low_index], low))\n",
    "    \n",
    "    # print(change)\n",
    "\n",
    "    # cand = set(candidate)\n",
    "    # dict={}\n",
    "    # for i in cand:\n",
    "    #     dict[i] = candidate.count(i) \n",
    "    #     print('{}: {}'. format(i, candidate.count(i)))\n",
    "    #     # print(dict)\n",
    "    \n",
    "    # def get_key(val):\n",
    "    #     for key, value in dict.items():\n",
    "    #         if val== value:\n",
    "    #             return key\n",
    "    #     return 'key does not exist'\n",
    "\n",
    "    # print(max(dict.values()))\n",
    "    # print('Winner: {}'.format(get_key(max(dict.values()))))"
   ]
  },
  {
   "cell_type": "code",
   "execution_count": null,
   "id": "147e7b9b",
   "metadata": {},
   "outputs": [],
   "source": []
  }
 ],
 "metadata": {
  "kernelspec": {
   "display_name": "Python 3 (ipykernel)",
   "language": "python",
   "name": "python3"
  },
  "language_info": {
   "codemirror_mode": {
    "name": "ipython",
    "version": 3
   },
   "file_extension": ".py",
   "mimetype": "text/x-python",
   "name": "python",
   "nbconvert_exporter": "python",
   "pygments_lexer": "ipython3",
   "version": "3.8.9"
  }
 },
 "nbformat": 4,
 "nbformat_minor": 5
}
